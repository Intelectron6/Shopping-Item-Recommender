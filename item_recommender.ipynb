{
 "cells": [
  {
   "cell_type": "markdown",
   "metadata": {},
   "source": [
    "# Item Recommender"
   ]
  },
  {
   "cell_type": "code",
   "execution_count": 1,
   "metadata": {},
   "outputs": [],
   "source": [
    "import numpy as np\n",
    "import pandas as pd\n",
    "import matplotlib.pyplot as plt"
   ]
  },
  {
   "cell_type": "code",
   "execution_count": 2,
   "metadata": {},
   "outputs": [
    {
     "data": {
      "text/html": [
       "<div>\n",
       "<style scoped>\n",
       "    .dataframe tbody tr th:only-of-type {\n",
       "        vertical-align: middle;\n",
       "    }\n",
       "\n",
       "    .dataframe tbody tr th {\n",
       "        vertical-align: top;\n",
       "    }\n",
       "\n",
       "    .dataframe thead th {\n",
       "        text-align: right;\n",
       "    }\n",
       "</style>\n",
       "<table border=\"1\" class=\"dataframe\">\n",
       "  <thead>\n",
       "    <tr style=\"text-align: right;\">\n",
       "      <th></th>\n",
       "      <th>Unnamed: 0</th>\n",
       "      <th>CustomerID</th>\n",
       "      <th>Genre</th>\n",
       "      <th>Age</th>\n",
       "      <th>Spending Score (1-100)</th>\n",
       "      <th>Annual Income (k$)</th>\n",
       "      <th>Items Bought</th>\n",
       "    </tr>\n",
       "  </thead>\n",
       "  <tbody>\n",
       "    <tr>\n",
       "      <th>0</th>\n",
       "      <td>0</td>\n",
       "      <td>1</td>\n",
       "      <td>Male</td>\n",
       "      <td>19</td>\n",
       "      <td>39</td>\n",
       "      <td>15</td>\n",
       "      <td>item8,item13,item15,item8,item2,</td>\n",
       "    </tr>\n",
       "    <tr>\n",
       "      <th>1</th>\n",
       "      <td>1</td>\n",
       "      <td>2</td>\n",
       "      <td>Male</td>\n",
       "      <td>21</td>\n",
       "      <td>81</td>\n",
       "      <td>15</td>\n",
       "      <td>item12,item1,item4,item14,item7,item15,item19,</td>\n",
       "    </tr>\n",
       "    <tr>\n",
       "      <th>2</th>\n",
       "      <td>2</td>\n",
       "      <td>3</td>\n",
       "      <td>Female</td>\n",
       "      <td>20</td>\n",
       "      <td>6</td>\n",
       "      <td>16</td>\n",
       "      <td>item19,item1,item16,item16,item14,item10,</td>\n",
       "    </tr>\n",
       "    <tr>\n",
       "      <th>3</th>\n",
       "      <td>3</td>\n",
       "      <td>4</td>\n",
       "      <td>Female</td>\n",
       "      <td>23</td>\n",
       "      <td>77</td>\n",
       "      <td>16</td>\n",
       "      <td>item8,item5,item15,item3,</td>\n",
       "    </tr>\n",
       "    <tr>\n",
       "      <th>4</th>\n",
       "      <td>4</td>\n",
       "      <td>5</td>\n",
       "      <td>Female</td>\n",
       "      <td>31</td>\n",
       "      <td>40</td>\n",
       "      <td>17</td>\n",
       "      <td>item4,item19,item2,item19,item5,item3,item12,</td>\n",
       "    </tr>\n",
       "  </tbody>\n",
       "</table>\n",
       "</div>"
      ],
      "text/plain": [
       "   Unnamed: 0  CustomerID   Genre  Age  Spending Score (1-100)  \\\n",
       "0           0           1    Male   19                      39   \n",
       "1           1           2    Male   21                      81   \n",
       "2           2           3  Female   20                       6   \n",
       "3           3           4  Female   23                      77   \n",
       "4           4           5  Female   31                      40   \n",
       "\n",
       "   Annual Income (k$)                                    Items Bought  \n",
       "0                  15                item8,item13,item15,item8,item2,  \n",
       "1                  15  item12,item1,item4,item14,item7,item15,item19,  \n",
       "2                  16       item19,item1,item16,item16,item14,item10,  \n",
       "3                  16                       item8,item5,item15,item3,  \n",
       "4                  17   item4,item19,item2,item19,item5,item3,item12,  "
      ]
     },
     "execution_count": 2,
     "metadata": {},
     "output_type": "execute_result"
    }
   ],
   "source": [
    "df = pd.read_csv('Shopping.csv')\n",
    "df.head()"
   ]
  },
  {
   "cell_type": "code",
   "execution_count": 3,
   "metadata": {},
   "outputs": [],
   "source": [
    "#input to cluster\n",
    "x = df.iloc[:,[3,4]].values"
   ]
  },
  {
   "cell_type": "code",
   "execution_count": 4,
   "metadata": {},
   "outputs": [
    {
     "data": {
      "image/png": "[encoded data removed]",
      "text/plain": [
       "<Figure size 432x288 with 1 Axes>"
      ]
     },
     "metadata": {
      "needs_background": "light"
     },
     "output_type": "display_data"
    }
   ],
   "source": [
    "from sklearn.cluster import KMeans\n",
    "#forming the elbow\n",
    "#to find the optimum number of clusters\n",
    "#not necessary in here\n",
    "abc = []\n",
    "for i in range (1,26):\n",
    "    kmeans = KMeans(n_clusters = i, init = 'k-means++')\n",
    "    kmeans.fit(x)\n",
    "    abc.append(kmeans.inertia_)\n",
    "plt.plot(range(1,26),abc, marker = '.')\n",
    "plt.title(\"The Elbow Method\")\n",
    "plt.xlabel(\"Number of clusters\")\n",
    "plt.ylabel(\"WCSS - Within Cluster of Squared Sums\")\n",
    "plt.show()"
   ]
  },
  {
   "cell_type": "code",
   "execution_count": 5,
   "metadata": {},
   "outputs": [
    {
     "data": {
      "text/plain": [
       "array([2, 1, 0, 1, 2, 1, 0, 1, 0, 1, 0, 1, 0, 1, 0, 1, 2, 2, 0, 1, 2, 1,\n",
       "       0, 1, 0, 1, 0, 2, 0, 1, 0, 1, 0, 1, 0, 1, 0, 1, 0, 1, 3, 1, 3, 2,\n",
       "       0, 2, 3, 2, 2, 2, 3, 2, 2, 3, 3, 3, 3, 3, 2, 3, 3, 2, 3, 3, 3, 2,\n",
       "       3, 3, 2, 2, 3, 3, 3, 3, 3, 2, 3, 2, 2, 3, 3, 2, 3, 3, 2, 3, 3, 2,\n",
       "       2, 3, 3, 2, 3, 2, 2, 2, 3, 2, 3, 2, 2, 3, 3, 2, 3, 2, 3, 3, 3, 3,\n",
       "       3, 2, 2, 2, 2, 2, 3, 3, 3, 3, 2, 2, 2, 1, 2, 1, 3, 1, 0, 1, 0, 1,\n",
       "       2, 1, 0, 1, 0, 1, 0, 1, 0, 1, 2, 1, 0, 1, 3, 1, 0, 1, 0, 1, 0, 1,\n",
       "       0, 1, 0, 1, 0, 1, 3, 1, 0, 1, 0, 1, 0, 1, 0, 2, 0, 1, 0, 1, 0, 1,\n",
       "       0, 1, 0, 1, 0, 1, 0, 1, 2, 1, 0, 1, 0, 1, 0, 1, 0, 1, 0, 1, 0, 1,\n",
       "       0, 1], dtype=int32)"
      ]
     },
     "execution_count": 5,
     "metadata": {},
     "output_type": "execute_result"
    }
   ],
   "source": [
    "#clustering\n",
    "kmeans = KMeans(n_clusters = 4, init = 'k-means++', random_state = 0)\n",
    "kmeans.fit(x)\n",
    "y_means = kmeans.fit_predict(x)\n",
    "y_means"
   ]
  },
  {
   "cell_type": "code",
   "execution_count": 6,
   "metadata": {},
   "outputs": [
    {
     "data": {
      "image/png": "[encoded data removed]",
      "text/plain": [
       "<Figure size 432x288 with 1 Axes>"
      ]
     },
     "metadata": {
      "needs_background": "light"
     },
     "output_type": "display_data"
    }
   ],
   "source": [
    "#Cluster plot\n",
    "plt.scatter(x[y_means == 0,0],x[y_means == 0,1], c = 'r', label = 'Low Expenditure') \n",
    "plt.scatter(x[y_means == 1,0],x[y_means == 1,1], c = 'b', label = 'Young high Expenditure')\n",
    "plt.scatter(x[y_means == 2,0],x[y_means == 2,1], c = 'g', label = 'Young medium expenditure')\n",
    "plt.scatter(x[y_means == 3,0],x[y_means == 3,1], c = 'k', label = 'Old medium Expenditure')\n",
    "#plt.scatter(kmeans.cluster_centers_[:, 0],kmeans.cluster_centers_[:,1], s = 100, c = 'C4', label = 'Centroids')\n",
    "plt.xlabel('Age')\n",
    "plt.ylabel('Score')\n",
    "plt.legend()\n",
    "plt.show()"
   ]
  },
  {
   "cell_type": "code",
   "execution_count": 7,
   "metadata": {},
   "outputs": [
    {
     "data": {
      "text/html": [
       "<div>\n",
       "<style scoped>\n",
       "    .dataframe tbody tr th:only-of-type {\n",
       "        vertical-align: middle;\n",
       "    }\n",
       "\n",
       "    .dataframe tbody tr th {\n",
       "        vertical-align: top;\n",
       "    }\n",
       "\n",
       "    .dataframe thead th {\n",
       "        text-align: right;\n",
       "    }\n",
       "</style>\n",
       "<table border=\"1\" class=\"dataframe\">\n",
       "  <thead>\n",
       "    <tr style=\"text-align: right;\">\n",
       "      <th></th>\n",
       "      <th>Unnamed: 0</th>\n",
       "      <th>CustomerID</th>\n",
       "      <th>Genre</th>\n",
       "      <th>Age</th>\n",
       "      <th>Spending Score (1-100)</th>\n",
       "      <th>Annual Income (k$)</th>\n",
       "      <th>Items Bought</th>\n",
       "      <th>cluster</th>\n",
       "    </tr>\n",
       "  </thead>\n",
       "  <tbody>\n",
       "    <tr>\n",
       "      <th>0</th>\n",
       "      <td>0</td>\n",
       "      <td>1</td>\n",
       "      <td>Male</td>\n",
       "      <td>19</td>\n",
       "      <td>39</td>\n",
       "      <td>15</td>\n",
       "      <td>item8,item13,item15,item8,item2,</td>\n",
       "      <td>3</td>\n",
       "    </tr>\n",
       "    <tr>\n",
       "      <th>1</th>\n",
       "      <td>1</td>\n",
       "      <td>2</td>\n",
       "      <td>Male</td>\n",
       "      <td>21</td>\n",
       "      <td>81</td>\n",
       "      <td>15</td>\n",
       "      <td>item12,item1,item4,item14,item7,item15,item19,</td>\n",
       "      <td>2</td>\n",
       "    </tr>\n",
       "    <tr>\n",
       "      <th>2</th>\n",
       "      <td>2</td>\n",
       "      <td>3</td>\n",
       "      <td>Female</td>\n",
       "      <td>20</td>\n",
       "      <td>6</td>\n",
       "      <td>16</td>\n",
       "      <td>item19,item1,item16,item16,item14,item10,</td>\n",
       "      <td>1</td>\n",
       "    </tr>\n",
       "    <tr>\n",
       "      <th>3</th>\n",
       "      <td>3</td>\n",
       "      <td>4</td>\n",
       "      <td>Female</td>\n",
       "      <td>23</td>\n",
       "      <td>77</td>\n",
       "      <td>16</td>\n",
       "      <td>item8,item5,item15,item3,</td>\n",
       "      <td>2</td>\n",
       "    </tr>\n",
       "    <tr>\n",
       "      <th>4</th>\n",
       "      <td>4</td>\n",
       "      <td>5</td>\n",
       "      <td>Female</td>\n",
       "      <td>31</td>\n",
       "      <td>40</td>\n",
       "      <td>17</td>\n",
       "      <td>item4,item19,item2,item19,item5,item3,item12,</td>\n",
       "      <td>3</td>\n",
       "    </tr>\n",
       "  </tbody>\n",
       "</table>\n",
       "</div>"
      ],
      "text/plain": [
       "   Unnamed: 0  CustomerID   Genre  Age  Spending Score (1-100)  \\\n",
       "0           0           1    Male   19                      39   \n",
       "1           1           2    Male   21                      81   \n",
       "2           2           3  Female   20                       6   \n",
       "3           3           4  Female   23                      77   \n",
       "4           4           5  Female   31                      40   \n",
       "\n",
       "   Annual Income (k$)                                    Items Bought  cluster  \n",
       "0                  15                item8,item13,item15,item8,item2,        3  \n",
       "1                  15  item12,item1,item4,item14,item7,item15,item19,        2  \n",
       "2                  16       item19,item1,item16,item16,item14,item10,        1  \n",
       "3                  16                       item8,item5,item15,item3,        2  \n",
       "4                  17   item4,item19,item2,item19,item5,item3,item12,        3  "
      ]
     },
     "execution_count": 7,
     "metadata": {},
     "output_type": "execute_result"
    }
   ],
   "source": [
    "#adding the cluster class to the dataframe\n",
    "ykmeans1 = y_means\n",
    "ykmeans1 = y_means+1\n",
    "cluster = pd.DataFrame(ykmeans1)\n",
    "df['cluster'] = cluster\n",
    "df.head()"
   ]
  },
  {
   "cell_type": "code",
   "execution_count": 8,
   "metadata": {},
   "outputs": [
    {
     "data": {
      "text/plain": [
       "98.33333333333333"
      ]
     },
     "execution_count": 8,
     "metadata": {},
     "output_type": "execute_result"
    }
   ],
   "source": [
    "#KNN classifier\n",
    "X = df.iloc[:, [3,4]]\n",
    "Y = df.iloc[:, 7]\n",
    "from sklearn.model_selection import train_test_split\n",
    "X_train, X_test, Y_train, Y_test = train_test_split(X,Y,test_size = 0.3, random_state=0)\n",
    "from sklearn.neighbors import KNeighborsClassifier\n",
    "classifier_2 = KNeighborsClassifier(n_neighbors = 3)\n",
    "classifier_2.fit(X_train,Y_train)\n",
    "y_pred = classifier_2.predict(X_test)\n",
    "classifier_2.score(X_test,Y_test)*100"
   ]
  },
  {
   "cell_type": "code",
   "execution_count": 9,
   "metadata": {},
   "outputs": [],
   "source": [
    "#Array of array of items bought by the customers in the cluster\n",
    "items_1, items_2, items_3, items_4 = [], [], [], []\n",
    "for i in range(len(y_means)):\n",
    "    if  y_means[i] == 0:\n",
    "        items_1.append(df.iloc[i,6])\n",
    "        \n",
    "    elif y_means[i] == 1:\n",
    "        items_2.append(df.iloc[i,6])\n",
    "        \n",
    "    elif y_means[i] == 2:\n",
    "        items_3.append(df.iloc[i,6])\n",
    "        \n",
    "    elif y_means[i] == 3:\n",
    "        items_4.append(df.iloc[i,6])"
   ]
  },
  {
   "cell_type": "code",
   "execution_count": 10,
   "metadata": {},
   "outputs": [],
   "source": [
    "#Item list for each cluster\n",
    "l1,l2,l3,l4 = [],[],[],[]\n",
    "for i in range(len(items_1)):\n",
    "    l1.extend(items_1[i].split(',')[:-1])\n",
    "    \n",
    "for i in range(len(items_2)):\n",
    "    l2.extend(items_2[i].split(',')[:-1])\n",
    "    \n",
    "for i in range(len(items_3)):\n",
    "    l3.extend(items_3[i].split(',')[:-1])\n",
    "    \n",
    "for i in range(len(items_4)):\n",
    "    l4.extend(items_4[i].split(',')[:-1])"
   ]
  },
  {
   "cell_type": "code",
   "execution_count": 11,
   "metadata": {},
   "outputs": [],
   "source": [
    "#finding frequencies to find popular product\n",
    "freq1 = {}\n",
    "for item in l1:\n",
    "    if item in freq1:\n",
    "        freq1[item] += 1\n",
    "    else:\n",
    "        freq1[item] = 1\n",
    "        \n",
    "freq2 = {}\n",
    "for item in l2:\n",
    "    if item in freq2:\n",
    "        freq2[item] += 1\n",
    "    else:\n",
    "        freq2[item] = 1\n",
    "\n",
    "freq3 = {}\n",
    "for item in l3:\n",
    "    if item in freq3:\n",
    "        freq3[item] += 1\n",
    "    else:\n",
    "        freq3[item] = 1\n",
    "        \n",
    "freq4 = {}\n",
    "for item in l4:\n",
    "    if item in freq4:\n",
    "        freq4[item] += 1\n",
    "    else:\n",
    "        freq4[item] = 1"
   ]
  },
  {
   "cell_type": "code",
   "execution_count": 12,
   "metadata": {},
   "outputs": [],
   "source": [
    "#sort the frequencies to recommend for each cluster\n",
    "recommendations1 = sorted(freq1, key = freq1.get, reverse = True)\n",
    "recommendations2 = sorted(freq2, key = freq2.get, reverse = True)\n",
    "recommendations3 = sorted(freq3, key = freq3.get, reverse = True)\n",
    "recommendations4 = sorted(freq4, key = freq4.get, reverse = True)\n",
    "\n",
    "recommendations = []\n",
    "recommendations.append(recommendations1)\n",
    "recommendations.append(recommendations2)\n",
    "recommendations.append(recommendations3)\n",
    "recommendations.append(recommendations4)"
   ]
  },
  {
   "cell_type": "code",
   "execution_count": 13,
   "metadata": {},
   "outputs": [],
   "source": [
    "#New Customer\n",
    "def new():\n",
    "    import random\n",
    "    age = int(input('Enter age '))\n",
    "    score = int(input(\"Enter your spending score(1-100) \"))\n",
    "    #score = random.randint(30,80)\n",
    "    ym = classifier_2.predict([[age,score]])\n",
    "    #print(\"Belongs to cluster \", ym[0])\n",
    "    print(\"Recommendations\")\n",
    "    if ym[0] == 1:\n",
    "        print(recommendations[0][:5])\n",
    "    if ym[0] == 2:\n",
    "        print(recommendations[1][:5])\n",
    "    if ym[0] == 3:\n",
    "        print(recommendations[2][:5])\n",
    "    if ym[0] == 4:\n",
    "        print(recommendations[3][:5])\n",
    "\n",
    "\n",
    "#Existing Customer\n",
    "def existing():\n",
    "    uid = int(input(\"Enter your customer ID \"))\n",
    "    item_bought = df['Items Bought'][uid-1]\n",
    "    a = item_bought.split(',')[:-1]\n",
    "    ag = df.iloc[uid-1,3]\n",
    "    sc = df.iloc[uid-1,4]\n",
    "    ym1 = classifier_2.predict([[ag,sc]])\n",
    "    cl = ym1[0]\n",
    "    b = recommendations[cl]\n",
    "    print('Recommendations')\n",
    "    for i in range(len(a)):\n",
    "        if a[i] in b:\n",
    "            b.remove(a[i])\n",
    "    \n",
    "    print(b[:5])"
   ]
  },
  {
   "cell_type": "code",
   "execution_count": 14,
   "metadata": {},
   "outputs": [
    {
     "name": "stdout",
     "output_type": "stream",
     "text": [
      "Are you an existing user?(y/n)y\n",
      "Enter your customer ID 5\n",
      "Recommendations\n",
      "['item9', 'item20', 'item16', 'item11', 'item18']\n"
     ]
    }
   ],
   "source": [
    "#User\n",
    "inp = input(\"Are you an existing user?(y/n)\")\n",
    "if inp.lower() == 'y':\n",
    "    existing()\n",
    "else:\n",
    "    new()"
   ]
  },
  {
   "cell_type": "code",
   "execution_count": null,
   "metadata": {},
   "outputs": [],
   "source": []
  }
 ],
 "metadata": {
  "kernelspec": {
   "display_name": "Python 3",
   "language": "python",
   "name": "python3"
  },
  "language_info": {
   "codemirror_mode": {
    "name": "ipython",
    "version": 3
   },
   "file_extension": ".py",
   "mimetype": "text/x-python",
   "name": "python",
   "nbconvert_exporter": "python",
   "pygments_lexer": "ipython3",
   "version": "3.6.7"
  }
 },
 "nbformat": 4,
 "nbformat_minor": 2
}
